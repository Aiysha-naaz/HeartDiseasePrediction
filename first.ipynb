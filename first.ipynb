{
 "cells": [
  {
   "cell_type": "code",
   "execution_count": 20,
   "id": "b7a9c716-b556-446c-b988-b514a68fa08f",
   "metadata": {},
   "outputs": [
    {
     "name": "stdin",
     "output_type": "stream",
     "text": [
      "Enter age:  75\n",
      "Enter gender (Male/Female):  male\n",
      "Enter cholesterol level:  228\n",
      "Enter blood pressure:  119\n",
      "Enter heart rate:  66\n",
      "Do you have diabetes? (Yes/No):  no\n",
      "Enter symptoms separated by commas:  chest pain, fatigue,Cold sweats\n"
     ]
    },
    {
     "name": "stdout",
     "output_type": "stream",
     "text": [
      "\n",
      "🔹 Result:\n",
      "Detected: Myocardial Infarction (Heart Attack)\n",
      "Possible Causes: Atherosclerosis (plaque buildup in arteries), Blood clot blocking coronary artery\n",
      "Suggested Treatment: Thrombolytics (to dissolve the clot), Aspirin (to prevent further clotting), Beta-blockers (to reduce heart workload), Angioplasty (to restore blood flow), Bypass surgery (to bypass blocked arteries)\n"
     ]
    }
   ],
   "source": [
    "import pickle\n",
    "import json\n",
    "import numpy as np\n",
    "import pandas as pd\n",
    "\n",
    "# Load trained model\n",
    "with open(\"heart_disease_model.pkl\", \"rb\") as file:\n",
    "    model = pickle.load(file)\n",
    "\n",
    "# Load heart disease types from JSON\n",
    "with open(\"heart_disease_info.json\", \"r\") as file:\n",
    "    heart_disease_info_weighted = json.load(file)\n",
    "\n",
    "# Function to predict heart disease\n",
    "def predict_heart_disease(age, gender, chol, bp, hr, diabetes, symptoms):\n",
    "    # Convert categorical values to match training data\n",
    "    gender_male = 1 if gender.lower() == \"male\" else 0\n",
    "    diabetes_yes = 1 if diabetes.lower() == \"yes\" else 0\n",
    "    \n",
    "    # Create DataFrame with correct column names\n",
    "    input_data = pd.DataFrame([[age, chol, bp, hr, gender_male, diabetes_yes]], \n",
    "                              columns=[\"Age\", \"Cholesterol\", \"Blood Pressure\", \"Heart Rate\", \"Gender_Male\", \"Diabetes_Yes\"])\n",
    "    \n",
    "    # Predict heart disease (0 = No, 1 = Yes)\n",
    "    disease_present = model.predict(input_data)[0]\n",
    "\n",
    "    if disease_present == 0:\n",
    "        return \"No heart disease detected. Stay healthy! 😊\"\n",
    "    \n",
    "    # Identify the type of heart disease using symptoms\n",
    "    return identify_heart_disease_type(symptoms)\n",
    "\n",
    "# Function to determine heart disease type based on symptoms\n",
    "def identify_heart_disease_type(symptoms):\n",
    "    symptom_scores = {}\n",
    "\n",
    "    for disease, details in heart_disease_info_weighted.items():\n",
    "        total_score = 0\n",
    "        for symptom in symptoms:\n",
    "            symptom = symptom.strip().lower()\n",
    "            for key, value in details[\"Symptoms\"].items():\n",
    "                if symptom in key.lower():\n",
    "                    total_score += value\n",
    "        symptom_scores[disease] = total_score\n",
    "\n",
    "    # Find the disease with the highest matching symptoms\n",
    "    best_match = max(symptom_scores, key=symptom_scores.get)\n",
    "\n",
    "    return f\"Detected: {best_match}\\nPossible Causes: {', '.join(heart_disease_info_weighted[best_match]['Cause'])}\\nSuggested Treatment: {', '.join(heart_disease_info_weighted[best_match]['Treatment'])}\"\n",
    "\n",
    "# User input\n",
    "age = int(input(\"Enter age: \"))\n",
    "gender = input(\"Enter gender (Male/Female): \")\n",
    "chol = int(input(\"Enter cholesterol level: \"))\n",
    "bp = int(input(\"Enter blood pressure: \"))\n",
    "hr = int(input(\"Enter heart rate: \"))\n",
    "diabetes = input(\"Do you have diabetes? (Yes/No): \")\n",
    "symptoms = input(\"Enter symptoms separated by commas: \").split(\",\")\n",
    "\n",
    "# Predict and display result\n",
    "result = predict_heart_disease(age, gender, chol, bp, hr, diabetes, symptoms)\n",
    "print(\"\\n🔹 Result:\")\n",
    "print(result)\n"
   ]
  },
  {
   "cell_type": "code",
   "execution_count": 2,
   "id": "5ae4e914-1c3b-4cdd-94a9-55e0e3af6000",
   "metadata": {},
   "outputs": [
    {
     "name": "stdout",
     "output_type": "stream",
     "text": [
      "Model Type: <class 'numpy.ndarray'>\n"
     ]
    }
   ],
   "source": [
    "print(\"Model Type:\", type(model))\n"
   ]
  },
  {
   "cell_type": "code",
   "execution_count": null,
   "id": "6599028a-4570-46c1-8a59-b5d8a83a7415",
   "metadata": {},
   "outputs": [],
   "source": []
  }
 ],
 "metadata": {
  "kernelspec": {
   "display_name": "Python 3 (ipykernel)",
   "language": "python",
   "name": "python3"
  },
  "language_info": {
   "codemirror_mode": {
    "name": "ipython",
    "version": 3
   },
   "file_extension": ".py",
   "mimetype": "text/x-python",
   "name": "python",
   "nbconvert_exporter": "python",
   "pygments_lexer": "ipython3",
   "version": "3.13.0"
  }
 },
 "nbformat": 4,
 "nbformat_minor": 5
}
